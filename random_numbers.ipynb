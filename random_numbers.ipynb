{
 "cells": [
  {
   "cell_type": "code",
   "execution_count": 1,
   "id": "b25990a5",
   "metadata": {},
   "outputs": [],
   "source": [
    "# Import the random module.\n",
    "import random"
   ]
  },
  {
   "cell_type": "code",
   "execution_count": 3,
   "id": "b9a3bd67",
   "metadata": {},
   "outputs": [
    {
     "data": {
      "text/plain": [
       "2"
      ]
     },
     "execution_count": 3,
     "metadata": {},
     "output_type": "execute_result"
    }
   ],
   "source": [
    "# Random Integer\n",
    "random.randint(-90,90)"
   ]
  },
  {
   "cell_type": "code",
   "execution_count": 4,
   "id": "f1541e4b",
   "metadata": {},
   "outputs": [
    {
     "data": {
      "text/plain": [
       "0.03196597084466568"
      ]
     },
     "execution_count": 4,
     "metadata": {},
     "output_type": "execute_result"
    }
   ],
   "source": [
    "# Random Function - single floating decimal number between 0 and 1.0.\n",
    "random.random()"
   ]
  },
  {
   "cell_type": "code",
   "execution_count": 5,
   "id": "0bda5a89",
   "metadata": {},
   "outputs": [
    {
     "data": {
      "text/plain": [
       "64.96046901315508"
      ]
     },
     "execution_count": 5,
     "metadata": {},
     "output_type": "execute_result"
    }
   ],
   "source": [
    "# Combination of both \"randoms\".\n",
    "random_number = random.randint(-90, 89) + random.random()\n",
    "random_number"
   ]
  },
  {
   "cell_type": "code",
   "execution_count": 9,
   "id": "2f98fce8",
   "metadata": {},
   "outputs": [
    {
     "data": {
      "text/plain": [
       "[-11.712089494474279,\n",
       " 62.40109156576816,\n",
       " -24.40079554525832,\n",
       " -14.922280206518273,\n",
       " 53.62008727307483,\n",
       " 79.07483509164992,\n",
       " 73.03635200209646,\n",
       " -17.079405367596085,\n",
       " -9.056210789876637,\n",
       " -89.1834860770926]"
      ]
     },
     "execution_count": 9,
     "metadata": {},
     "output_type": "execute_result"
    }
   ],
   "source": [
    "# Generate ten random floating-point decimal latitudes between -90 and 89.\n",
    "x=1\n",
    "latitudes = []\n",
    "while x < 11:\n",
    "    random_lat= random.randint(-90, 89) + random.random()\n",
    "    latitudes.append(random_lat)\n",
    "    x+= 1\n",
    "    \n",
    "latitudes"
   ]
  },
  {
   "cell_type": "code",
   "execution_count": 11,
   "id": "f79860a0",
   "metadata": {},
   "outputs": [
    {
     "data": {
      "text/plain": [
       "42"
      ]
     },
     "execution_count": 11,
     "metadata": {},
     "output_type": "execute_result"
    }
   ],
   "source": [
    "# Random range with a \"step\" parameter - the step is the difference between each number in the sequence.\n",
    "# The default step (if it's not added in the code) will be 1.\n",
    "random.randrange(-90, 90, step=3)"
   ]
  },
  {
   "cell_type": "code",
   "execution_count": 12,
   "id": "185b9382",
   "metadata": {},
   "outputs": [
    {
     "data": {
      "text/plain": [
       "-4.263028396636557"
      ]
     },
     "execution_count": 12,
     "metadata": {},
     "output_type": "execute_result"
    }
   ],
   "source": [
    "# Random uniform function will generate a floating-decimal number.\n",
    "random.uniform(-90, 90)"
   ]
  },
  {
   "cell_type": "code",
   "execution_count": 13,
   "id": "a34ebb72",
   "metadata": {},
   "outputs": [],
   "source": [
    "# Import the NumPy module.\n",
    "import numpy as np"
   ]
  },
  {
   "cell_type": "code",
   "execution_count": 14,
   "id": "ee8561d4",
   "metadata": {},
   "outputs": [
    {
     "data": {
      "text/plain": [
       "39.00461018818609"
      ]
     },
     "execution_count": 14,
     "metadata": {},
     "output_type": "execute_result"
    }
   ],
   "source": [
    "# Run the random-uniform function with NumPy. \n",
    "np.random.uniform(-90, 90)"
   ]
  },
  {
   "cell_type": "code",
   "execution_count": 15,
   "id": "8fb75184",
   "metadata": {},
   "outputs": [
    {
     "data": {
      "text/plain": [
       "array([ 61.56056207,  39.9675587 , -64.72934612,  15.81867795,\n",
       "        34.80091105, -34.07354841,  37.13281989,  45.71263589,\n",
       "        18.12576199,  -3.79608866,  58.99062274,  21.66093055,\n",
       "       -45.15636681, -39.21290492, -39.5667077 ,  -9.80521371,\n",
       "       -85.35823202, -46.61011   ,  -0.92616497,  25.78694508,\n",
       "       -76.52002821,  -5.1532453 ,  -7.91049338, -52.32687697,\n",
       "        75.36989642,  39.4713641 ,  78.77299799,  -0.86110816,\n",
       "        67.64314025,  15.86036803,  55.83747892,  85.7397157 ,\n",
       "       -55.77507524,  29.20840965,   5.77836292,  15.37599705,\n",
       "       -55.18831386, -49.44760457, -44.72856739,  44.79638124,\n",
       "        57.14810533,  10.06549263,  68.44521418,  17.83483666,\n",
       "        23.8245414 , -81.964525  ,  -8.4659607 ,  13.47743332,\n",
       "        19.50572056,  30.16425671])"
      ]
     },
     "execution_count": 15,
     "metadata": {},
     "output_type": "execute_result"
    }
   ],
   "source": [
    "# Run the random-uniform function with NumPy AND add size to generate more than one number. \n",
    "np.random.uniform(-90, 90, size=50)"
   ]
  },
  {
   "cell_type": "code",
   "execution_count": 16,
   "id": "6d732517",
   "metadata": {},
   "outputs": [],
   "source": [
    "# To time how long a piece of code/function takes to run. \n",
    "# Import timeit.\n",
    "import timeit"
   ]
  },
  {
   "cell_type": "code",
   "execution_count": 17,
   "id": "986dfd8a",
   "metadata": {},
   "outputs": [
    {
     "name": "stdout",
     "output_type": "stream",
     "text": [
      "11.9 µs ± 251 ns per loop (mean ± std. dev. of 7 runs, 100000 loops each)\n"
     ]
    }
   ],
   "source": [
    "# Add the magic command before the code so it knows what to time. \n",
    "%timeit np.random.uniform(-90, 90, size=1500)"
   ]
  },
  {
   "cell_type": "code",
   "execution_count": 18,
   "id": "9d8df546",
   "metadata": {},
   "outputs": [
    {
     "name": "stdout",
     "output_type": "stream",
     "text": [
      "1.56 ms ± 15.6 µs per loop (mean ± std. dev. of 7 runs, 1000 loops each)\n"
     ]
    }
   ],
   "source": [
    "# Comparing the code above with the loop function to see which is faster. \n",
    "def latitudes(size):\n",
    "    latitudes = []\n",
    "    x = 0\n",
    "    while x < (size):\n",
    "        random_lat = random.randint(-90, 90) + random.random()\n",
    "        latitudes.append(random_lat)\n",
    "        x += 1\n",
    "    return latitudes\n",
    "# Call the function with 1500.\n",
    "%timeit latitudes(1500)"
   ]
  },
  {
   "cell_type": "code",
   "execution_count": 22,
   "id": "3fa685bc",
   "metadata": {},
   "outputs": [
    {
     "name": "stdout",
     "output_type": "stream",
     "text": [
      "1.44 ms ± 24.7 µs per loop (mean ± std. dev. of 7 runs, 1000 loops each)\n",
      "<function latitudes at 0x7fbe6d36d5f0>\n"
     ]
    }
   ],
   "source": [
    "# Refactor the code for the while loop but write a for loop that will generate the 1,500 latitudes.\n",
    "def latitudes(size):\n",
    "    latitudes = []\n",
    "    for i in range(0,1499):\n",
    "        x = random.randint(-90, 90) + random.random()\n",
    "    latitudes.append(x)\n",
    "%timeit latitudes(1500)\n"
   ]
  },
  {
   "cell_type": "code",
   "execution_count": null,
   "id": "ccf5f048",
   "metadata": {},
   "outputs": [],
   "source": []
  }
 ],
 "metadata": {
  "kernelspec": {
   "display_name": "PythonData",
   "language": "python",
   "name": "pythondata"
  },
  "language_info": {
   "codemirror_mode": {
    "name": "ipython",
    "version": 3
   },
   "file_extension": ".py",
   "mimetype": "text/x-python",
   "name": "python",
   "nbconvert_exporter": "python",
   "pygments_lexer": "ipython3",
   "version": "3.7.13"
  }
 },
 "nbformat": 4,
 "nbformat_minor": 5
}
